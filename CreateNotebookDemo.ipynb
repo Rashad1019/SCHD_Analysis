{
 "cells": [
  {
   "cell_type": "markdown",
   "id": "957a2887",
   "metadata": {},
   "source": [
    "# Create Another Jupyter Notebook Programmatically\n",
    "This notebook demonstrates how to create a new Jupyter notebook file using Python, list notebooks in a directory, and programmatically edit a notebook. Each step is labeled with a cell number for clarity."
   ]
  },
  {
   "cell_type": "code",
   "execution_count": null,
   "id": "926ba4f3",
   "metadata": {},
   "outputs": [],
   "source": [
    "#Cell 1\n",
    "import nbformat\n",
    "import os\n",
    "from nbformat.v4 import new_notebook, new_code_cell, new_markdown_cell"
   ]
  },
  {
   "cell_type": "markdown",
   "id": "58b1a7ec",
   "metadata": {},
   "source": [
    "## Section 1: Set Up Notebook Environment\n",
    "Import the required libraries for notebook manipulation and file operations."
   ]
  },
  {
   "cell_type": "markdown",
   "id": "fa3c4ac4",
   "metadata": {},
   "source": [
    "## Section 2: Create a New Jupyter Notebook Programmatically\n",
    "Use nbformat to create a new notebook object and write it to disk as a .ipynb file."
   ]
  },
  {
   "cell_type": "code",
   "execution_count": null,
   "id": "53298280",
   "metadata": {},
   "outputs": [],
   "source": [
    "#Cell 2\n",
    "new_nb = new_notebook(cells=[\n",
    "    new_markdown_cell(\"# This is a new notebook created programmatically.\"),\n",
    "    new_code_cell(\"#Cell 1\\nprint('Hello from the new notebook!')\")\n",
    "])\n",
    "new_nb_path = 'ProgrammaticallyCreatedNotebook.ipynb'\n",
    "with open(new_nb_path, 'w', encoding='utf-8') as f:\n",
    "    nbformat.write(new_nb, f)\n",
    "print(f\"Notebook created: {new_nb_path}\")"
   ]
  },
  {
   "cell_type": "markdown",
   "id": "4da840aa",
   "metadata": {},
   "source": [
    "## Section 3: List Existing Notebooks in Directory\n",
    "Use Python's os module to list all .ipynb files in the current working directory."
   ]
  },
  {
   "cell_type": "code",
   "execution_count": null,
   "id": "7fcf2ff2",
   "metadata": {},
   "outputs": [],
   "source": [
    "#Cell 3\n",
    "notebooks = [f for f in os.listdir('.') if f.endswith('.ipynb')]\n",
    "print(\"Jupyter notebooks in current directory:\")\n",
    "for nb in notebooks:\n",
    "    print(nb)"
   ]
  },
  {
   "cell_type": "markdown",
   "id": "e2455605",
   "metadata": {},
   "source": [
    "## Section 4: Open and Edit the New Notebook\n",
    "Demonstrate how to read the newly created notebook file and add a new code cell to it."
   ]
  },
  {
   "cell_type": "code",
   "execution_count": null,
   "id": "2ac4c7f5",
   "metadata": {},
   "outputs": [],
   "source": [
    "#Cell 4\n",
    "with open(new_nb_path, 'r', encoding='utf-8') as f:\n",
    "    nb = nbformat.read(f, as_version=4)\n",
    "nb.cells.append(new_code_cell(\"#Cell 2\\nprint('This cell was added programmatically!')\"))\n",
    "with open(new_nb_path, 'w', encoding='utf-8') as f:\n",
    "    nbformat.write(nb, f)\n",
    "print(\"Added a new code cell to the notebook.\")"
   ]
  }
 ],
 "metadata": {
  "kernelspec": {
   "display_name": "venv (3.13.3)",
   "language": "python",
   "name": "python3"
  },
  "language_info": {
   "name": "python",
   "version": "3.13.3"
  }
 },
 "nbformat": 4,
 "nbformat_minor": 5
}
